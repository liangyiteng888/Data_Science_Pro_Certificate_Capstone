{
 "cells": [
  {
   "cell_type": "markdown",
   "metadata": {},
   "source": [
    "<h1><center>Data Science Professional Certificate Final Capstone Project</center></h1>\n",
    "<h2><center>Daniel Liang</center></h2>\n",
    "<h3><center>Feb 25, 2020</center></h3>"
   ]
  },
  {
   "cell_type": "markdown",
   "metadata": {},
   "source": [
    "## 1. Introduction/Business Problem"
   ]
  },
  {
   "cell_type": "markdown",
   "metadata": {},
   "source": [
    "A private investor expects to open a grocery store or supermarket through joining the Loblaw franchises in Ontario, Canada.  Loblaw is the top grocery store and supermarket franchising company in Canada that offers various franchise banners to be used for the independently owned franchise stores across Canada. Details of Loblaw franchise business opportunities can be found in this [link](https://www.loblaw.ca/en/careers/franchise-opportunities.html). \n",
    "  \n",
    "Available franchise banners from Loblaw that are available for selection include\n",
    "- [No Frills™](https://www.nofrills.ca)\n",
    "- [Independent City Market™](https://www.independentcitymarket.ca)\n",
    "- [Fortinos™](https://www.fortinos.ca)\n",
    "- [Provigo™](https://www.provigo.ca)\n",
    "- [Valu-Mart™](https://www.valumart.ca)\n",
    "- [Your Independent Grocer™](https://www.yourindependentgrocer.ca)  \n",
    "\n",
    "These banners are different from each other and have their own unique features. Simply put, they are tailored for different types of communities or neighborhoods.  \n",
    "\n",
    "The private investor wants to open a store at a location where one of the banners from the list could be the best fit. Based on the private investor's description and preference, some other specific criteria should be considered when going through the analysis.\n",
    "1. The best choice of location is Toronto, but still open to other regions in the Greater Toronto Area including Mississauga, Markham, and Kitchener-Waterloo-Cambridge.\n",
    "2. The pick of location and banner should be optimized to avoid harsh competitions within the same area.  \n",
    "\n",
    "Through this analysis, multiple appropriate locations with optimized selections of banners should be provided to the private investor to support his decision making. From the result, he should get a clearer and detailed insight of the locations and neighborhood features around them so that he can make the best decision about the business strategy."
   ]
  },
  {
   "cell_type": "markdown",
   "metadata": {},
   "source": [
    "## 2. Data Overview"
   ]
  },
  {
   "cell_type": "markdown",
   "metadata": {},
   "source": [
    "###  Data Understanding"
   ]
  },
  {
   "cell_type": "markdown",
   "metadata": {},
   "source": [
    "**The first task** of this project is to figure out what differentiate the banners from each other. One of the straightforward strategies is to analyze the products and brands that each banner provides and find out what types of customer targeted by them. In order to do that, scraping the product and brand list for each banner and spending time on understanding the product-customer relationship is unavoidable. This could be extrodinarily time-consuming, and the return on the investment of time may not be satisfying eventually. However, it can be done from another point of view. Since Loblaw's business has been healthy for many years and its strategy of franchise expanding has been tested working by the real market, we have the confidence to believe that the existing locations of those stores have gone through meticulous determination after tremendous analysis performed by either Loblaw's own business teams or other consulting firms. Therefore, by analyzing the geographical data collected for the neighborhoods around the exsting store locations, we are able to tell the uniqueness of each banner based on the similarities or differences of its neighborhood comparing to others. **The second task** is to analyze multiple regions or cities and try to classify their neighborhoods in such a way that the banners are classified. By doing this, we can propose the top and second choices of banners for each of the neighborhoods in those regions of interest. **The last task**, of course, is to help the private investor avoid potential risk of opening a store with duplicated function as one of the existing stores nearby. Competition with similar banners from other franchise companies than Loblaw is allowable."
   ]
  },
  {
   "cell_type": "markdown",
   "metadata": {},
   "source": [
    "Running for the first task, we need to have a list of locations for the 6 banners. "
   ]
  },
  {
   "cell_type": "code",
   "execution_count": 1,
   "metadata": {},
   "outputs": [],
   "source": [
    "# import modules needed for Part 1\n",
    "import requests\n",
    "from bs4 import BeautifulSoup as BS\n",
    "import pandas as pd\n",
    "import numpy as np"
   ]
  },
  {
   "cell_type": "code",
   "execution_count": 7,
   "metadata": {},
   "outputs": [
    {
     "name": "stdout",
     "output_type": "stream",
     "text": [
      "<!DOCTYPE html>\n",
      "<html>\n",
      " <head>\n",
      "  <script type=\"text/javascript\">\n",
      "   var _ldPerfStart = Date.now();\n",
      "  </script>\n",
      "  <meta charset=\"utf-8\"/>\n",
      "  <meta content=\"width=device-width, initial-scale=1.0, maximum-scale=1.0\" name=\"viewport\"/>\n",
      "  <meta content=\"iEkgK_YdwVZsaq65Q3cQVt5xeImX01iPuhXG1GywFlE\" name=\"google-site-verification\"/>\n",
      "  <meta content=\"app-id=1194066746, affiliate-data=ct=smart-app-banner&amp;pt=1384326\" name=\"apple-itunes-app\"/>\n",
      "  <meta content=\"app-id=pc.express.grocery.pickup&amp;hl=en_CA\" name=\"google-play-app\"/>\n",
      "  <script async=\"true\" type=\"text/javascript\">\n",
      "   function targetPageParams() { \n",
      "                return { \n",
      "                    \"site\": \"nofrills\",\n",
      "                }; \n",
      "            };\n",
      "  </script>\n",
      "  <script async=\"true\" src=\"https://d3rzy2hoo29vi.cloudfront.net/assets/js/at_v1.js\" type=\"text/javascript\">\n",
      "  </script>\n",
      "  <link as=\"font\" crossorigin=\"crossorigin\" href=\"https://d3rzy2hoo29vi.cloudfront.net/fonts/futura/futuraStd-heavy.woff2\" rel=\"preload\" type=\"font/woff2\"/>\n",
      "  <link as=\"font\" crossorigin=\"crossorigin\" href=\"https://d3rzy2hoo29vi.cloudfront.net/fonts/univers/2B816F_0_0.woff2\" rel=\"preload\" type=\"font/woff2\"/>\n",
      "  <link as=\"font\" crossorigin=\"crossorigin\" href=\"https://d3rzy2hoo29vi.cloudfront.net/fonts/univers/2B816F_1_0.woff2\" rel=\"preload\" type=\"font/woff2\"/>\n",
      "  <link as=\"font\" crossorigin=\"crossorigin\" href=\"https://d3rzy2hoo29vi.cloudfront.net/fonts/univers/2B816F_2_0.woff2\" rel=\"preload\" type=\"font/woff2\"/>\n",
      "  <link as=\"font\" crossorigin=\"crossorigin\" href=\"https://d3rzy2hoo29vi.cloudfront.net/fonts/univers/2B816F_3_0.woff2\" rel=\"preload\" type=\"font/woff2\"/>\n",
      "  <link as=\"font\" crossorigin=\"crossorigin\" href=\"https://d3rzy2hoo29vi.cloudfront.net/fonts/univers/2B816F_4_0.woff2\" rel=\"preload\" type=\"font/woff2\"/>\n",
      "  <link as=\"font\" crossorigin=\"crossorigin\" href=\"https://d3rzy2hoo29vi.cloudfront.net/fonts/icons/v1/grocery-icons.woff2\" rel=\"preload\" type=\"font/woff2\"/>\n",
      "  <link as=\"font\" crossorigin=\"crossorigin\" href=\"https://d3rzy2hoo29vi.cloudfront.net/fonts/noir/Noir_Std.otf\" rel=\"preload\" type=\"font/opentype\"/>\n",
      "  <link as=\"font\" crossorigin=\"crossorigin\" href=\"https://d3rzy2hoo29vi.cloudfront.net/fonts/noir/Noir_Std_Semi_Bold.otf\" rel=\"preload\" type=\"font/opentype\"/>\n",
      "  <link href=\"https://assets.shop.loblaws.ca\" rel=\"preconnect\"/>\n",
      "  <link href=\"https://assets.adobedtm.com\" rel=\"preconnect\"/>\n",
      "  <link href=\"https://assets.shop.loblaws.ca/ContentMedia/pvg/icons/pcx_app_icon.jpg\" rel=\"apple-touch-icon\" type=\"image/x-icon\"/>\n",
      "  <link href=\"https://assets.shop.loblaws.ca/ContentMedia/pvg/icons/pcx_app_icon.jpg\" rel=\"android-touch-icon\" type=\"image/x-icon\"/>\n",
      "  <link href=\"https://assets.shop.loblaws.ca/ContentMedia/pvg/icons/pcx_app_icon.jpg\" rel=\"windows-touch-icon\" type=\"image/x-icon\"/>\n",
      "  <link href=\"https://d3rzy2hoo29vi.cloudfront.net/builds/production/1.10.3/e48484f2/nofrills/nofrills-bundle.css\" rel=\"stylesheet\" type=\"text/css\"/>\n",
      "  <link href=\"https://assets.shop.loblaws.ca/ContentMedia/nfr/logos/64x64icon.ico\" media=\"all\" rel=\"shortcut icon\" type=\"image/x-icon\"/>\n",
      "  <script async=\"true\" src=\"https://assets.adobedtm.com/ec12e179889c41354087f1ac19e02839d7c19f0e/satelliteLib-105d18abadb6163816bb52f11c640058778e502a.js\" type=\"text/javascript\">\n",
      "  </script>\n",
      "  <script>\n",
      "   // Google Tag Manager\n",
      "            (function(w,d,s,l,i){w[l]=w[l]||[];w[l].push({'gtm.start': new Date().getTime(),event:'gtm.js'});var f=d.getElementsByTagName(s)[0],j=d.createElement(s),dl=l!='dataLayer'?'&l='+l:'';j.async=true;j.src='https://www.googletagmanager.com/gtm.js?id='+i+dl;f.parentNode.insertBefore(j,f);})(window,document,'script','dataLayer','GTM-NPWHZ7F');\n",
      "  </script>\n",
      " </head>\n",
      " <body>\n",
      "  <div data-customer-pickuplocation-id=\"\" data-default-pickup-location=\"0730\" data-enabled-bronx-page-ids=\"search-results,search-results-no-results,productDetails,subcategory,quickShopPage,shoppingListDetails,userListPage,userList,cartReviewPage,cartPage,quickshop,homepage,checkout,checkoutThankYou,order-history,order-history-details,liveCartPage,payment-no-card,payment,preferences,loyaltyTermsAndConditionsPage,loyaltyViewAccountPage,shoppable-flyer,weekly-flyer,coupon,loyaltyLandingPage,loyaltyOffersPage,loyaltyOfferDetailsPage,profile,storelocator,storeDetails,category,collections,ciam\" data-forgot-password-flyout=\"\" data-is-anonymous-user=\"Y\" data-is-pcinsiders-registered=\"false\" data-is-pco-linked-customer=\"N\" data-language=\"en\" data-user-creation-flyout=\"\" id=\"bronx-data\">\n",
      "  </div>\n",
      "  <div id=\"root\">\n",
      "  </div>\n",
      "  <script>\n",
      "   window[\"ldBronxCDNPath\"] = \"https://d3rzy2hoo29vi.cloudfront.net/builds/production/1.10.3/e48484f2/nofrills\";\n",
      "                    window[\"ldBronxAppBundle\"] = \"https://d3rzy2hoo29vi.cloudfront.net/builds/production/1.10.3/e48484f2/nofrills/nofrills-bundle.js\";\n",
      "  </script>\n",
      "  <script src=\"https://d3rzy2hoo29vi.cloudfront.net/builds/production/1.10.3/e48484f2/nofrills/nofrills-vendor.bundle.js\" type=\"text/javascript\">\n",
      "  </script>\n",
      " </body>\n",
      "</html>\n",
      "\n"
     ]
    }
   ],
   "source": [
    "data_storeloc_nofrills_url = requests.get(\"https://www.nofrills.ca/store-locator?searchQuery=Toronto,%20%E5%AE%89%E5%A4%A7%E7%95%A5%E7%9C%81%E5%8A%A0%E6%8B%BF%E5%A4%A7\").text\n",
    "soup = BS(data_storeloc_nofrills_url,'lxml')\n",
    "print(soup.prettify())"
   ]
  },
  {
   "cell_type": "code",
   "execution_count": 5,
   "metadata": {},
   "outputs": [
    {
     "data": {
      "text/plain": [
       "bs4.element.Tag"
      ]
     },
     "execution_count": 5,
     "metadata": {},
     "output_type": "execute_result"
    }
   ],
   "source": [
    "soup\n",
    "#neighbor_table = soup.find('table',{'class':'wikitable sortable'}) #extract the section reading the table \n",
    "type(neighbor_table)\n"
   ]
  },
  {
   "cell_type": "code",
   "execution_count": null,
   "metadata": {},
   "outputs": [],
   "source": [
    "zips = neighbor_table.findAll('td')\n",
    "data_list = []\n",
    "for row in zips:\n",
    "    try: \n",
    "        data_list.append(row.find('a').contents[0])\n",
    "    except:\n",
    "        data_list.append(row.contents[0].strip())\n",
    "data_list_nest = [[data_list[i] for i in range(0,len(data_list),3)],\n",
    "                  [data_list[i] for i in range(1,len(data_list),3)],\n",
    "                  [data_list[i] for i in range(2,len(data_list),3)]]\n",
    "\n",
    "del data_list # delete the original data list to release memory\n",
    "#data_list_nest"
   ]
  }
 ],
 "metadata": {
  "kernelspec": {
   "display_name": "Python 3",
   "language": "python",
   "name": "python3"
  },
  "language_info": {
   "codemirror_mode": {
    "name": "ipython",
    "version": 3
   },
   "file_extension": ".py",
   "mimetype": "text/x-python",
   "name": "python",
   "nbconvert_exporter": "python",
   "pygments_lexer": "ipython3",
   "version": "3.6.4"
  }
 },
 "nbformat": 4,
 "nbformat_minor": 2
}
