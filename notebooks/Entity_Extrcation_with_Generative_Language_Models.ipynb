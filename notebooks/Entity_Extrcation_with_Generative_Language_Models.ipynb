{
  "cells": [
    {
      "cell_type": "markdown",
      "id": "66368ec5-0276-454f-b290-32e135455368",
      "metadata": {
        "id": "66368ec5-0276-454f-b290-32e135455368"
      },
      "source": [
        "# Entity Extraction with Generative Models\n",
        "\n",
        "This notebook demonstrates how to use Cohere's generative models to extract the name of a film from the title of an article. This demonstrates Named Entity Recognition (NER) of entities which are harder to isolate using other NLP methods (and where pre-training provides the model with some context on these entities). This also demonstrates the broader usecase of sturctured generation based on providing multiple examples in the prompt.\n",
        "\n",
        "\n",
        "\n",
        "![Extracting Entities from text](https://github.com/cohere-ai/notebooks/raw/main/notebooks/images/keyword-extraction-gpt-models.png)\n",
        "\n",
        "\n",
        "We'll use post titles from the r/Movies subreddit. And for each title, we'll extract which movie the post is about. If the model is unable to detect the name of a movie being mentioned, it will return \"none\".\n",
        "\n",
        "## Setup\n",
        "Let's start by installing the packages we need."
      ]
    },
    {
      "cell_type": "code",
      "execution_count": 1,
      "id": "00b28473-48d9-4036-880f-71a839d3df7f",
      "metadata": {
        "colab": {
          "base_uri": "https://localhost:8080/"
        },
        "id": "00b28473-48d9-4036-880f-71a839d3df7f",
        "outputId": "d4d730f3-62e4-4ea6-b5eb-299ae5ee232f"
      },
      "outputs": [
        {
          "output_type": "stream",
          "name": "stdout",
          "text": [
            "Collecting cohere\n",
            "  Downloading cohere-4.11.2-py3-none-any.whl (39 kB)\n",
            "Requirement already satisfied: requests in /usr/local/lib/python3.10/dist-packages (2.27.1)\n",
            "Requirement already satisfied: tqdm in /usr/local/lib/python3.10/dist-packages (4.65.0)\n",
            "Requirement already satisfied: aiohttp<4.0,>=3.0 in /usr/local/lib/python3.10/dist-packages (from cohere) (3.8.4)\n",
            "Collecting backoff<3.0,>=2.0 (from cohere)\n",
            "  Downloading backoff-2.2.1-py3-none-any.whl (15 kB)\n",
            "Collecting importlib_metadata<7.0,>=6.0 (from cohere)\n",
            "  Downloading importlib_metadata-6.7.0-py3-none-any.whl (22 kB)\n",
            "Requirement already satisfied: urllib3<1.27,>=1.21.1 in /usr/local/lib/python3.10/dist-packages (from requests) (1.26.16)\n",
            "Requirement already satisfied: certifi>=2017.4.17 in /usr/local/lib/python3.10/dist-packages (from requests) (2023.5.7)\n",
            "Requirement already satisfied: charset-normalizer~=2.0.0 in /usr/local/lib/python3.10/dist-packages (from requests) (2.0.12)\n",
            "Requirement already satisfied: idna<4,>=2.5 in /usr/local/lib/python3.10/dist-packages (from requests) (3.4)\n",
            "Requirement already satisfied: attrs>=17.3.0 in /usr/local/lib/python3.10/dist-packages (from aiohttp<4.0,>=3.0->cohere) (23.1.0)\n",
            "Requirement already satisfied: multidict<7.0,>=4.5 in /usr/local/lib/python3.10/dist-packages (from aiohttp<4.0,>=3.0->cohere) (6.0.4)\n",
            "Requirement already satisfied: async-timeout<5.0,>=4.0.0a3 in /usr/local/lib/python3.10/dist-packages (from aiohttp<4.0,>=3.0->cohere) (4.0.2)\n",
            "Requirement already satisfied: yarl<2.0,>=1.0 in /usr/local/lib/python3.10/dist-packages (from aiohttp<4.0,>=3.0->cohere) (1.9.2)\n",
            "Requirement already satisfied: frozenlist>=1.1.1 in /usr/local/lib/python3.10/dist-packages (from aiohttp<4.0,>=3.0->cohere) (1.3.3)\n",
            "Requirement already satisfied: aiosignal>=1.1.2 in /usr/local/lib/python3.10/dist-packages (from aiohttp<4.0,>=3.0->cohere) (1.3.1)\n",
            "Requirement already satisfied: zipp>=0.5 in /usr/local/lib/python3.10/dist-packages (from importlib_metadata<7.0,>=6.0->cohere) (3.15.0)\n",
            "Installing collected packages: importlib_metadata, backoff, cohere\n",
            "Successfully installed backoff-2.2.1 cohere-4.11.2 importlib_metadata-6.7.0\n"
          ]
        }
      ],
      "source": [
        "!pip install cohere requests tqdm"
      ]
    },
    {
      "cell_type": "markdown",
      "id": "c1d1f58a-1a30-42bb-a443-e9227c4a4ff7",
      "metadata": {
        "id": "c1d1f58a-1a30-42bb-a443-e9227c4a4ff7"
      },
      "source": [
        "We'll then import these packages and declare the function that retrieves post titles from reddit."
      ]
    },
    {
      "cell_type": "code",
      "execution_count": 14,
      "id": "b9b83146-5648-40b7-8a26-6dba4e6ef6e0",
      "metadata": {
        "id": "b9b83146-5648-40b7-8a26-6dba4e6ef6e0"
      },
      "outputs": [],
      "source": [
        "import cohere\n",
        "import pandas as pd\n",
        "import requests\n",
        "import datetime\n",
        "from tqdm import tqdm\n",
        "pd.set_option('display.max_colwidth', None)\n",
        "\n",
        "def get_post_titles(**kwargs):\n",
        "    \"\"\" Gets data from the pushshift api. Read more: https://github.com/pushshift/api \"\"\"\n",
        "    base_url = f\"https://api.pushshift.io/reddit/search/submission/\"\n",
        "    payload = kwargs\n",
        "    request = requests.get(base_url, params=payload)\n",
        "    print(request.json())\n",
        "    # return [a['title'] for a in request.json()['data']]\n"
      ]
    },
    {
      "cell_type": "markdown",
      "id": "e78c4f33-3d35-448c-b511-e5150bbe951c",
      "metadata": {
        "id": "e78c4f33-3d35-448c-b511-e5150bbe951c"
      },
      "source": [
        "You'll need your API key for this next cell. [Sign up to Cohere](https://os.cohere.ai/) and get one if you haven't yet."
      ]
    },
    {
      "cell_type": "code",
      "execution_count": 3,
      "id": "9c1554a9-9203-4ca9-9711-aa9ce051721e",
      "metadata": {
        "id": "9c1554a9-9203-4ca9-9711-aa9ce051721e"
      },
      "outputs": [],
      "source": [
        "# Paste your API key here. Remember to not share publicly\n",
        "api_key = '263AjTqtMaRsy4Dehu6ko2ThCjC6KS85e8dF45ZV'\n",
        "\n",
        "# Create and retrieve a Cohere API key from os.cohere.ai\n",
        "co = cohere.Client(api_key)"
      ]
    },
    {
      "cell_type": "markdown",
      "id": "edb17ad3-22f6-46f4-82f4-57b72f4ee973",
      "metadata": {
        "id": "edb17ad3-22f6-46f4-82f4-57b72f4ee973"
      },
      "source": [
        "## Preparing examples for the prompt\n",
        "\n",
        "In our prompt, we'll present the model with examples for the type of output we're after. We basically get a set of subreddit article titles, and label them ourselves. The label here is the name of the movie mentioned in the title (and \"none\" if no movie is mentioned).\n",
        "\n",
        "\n",
        "![Labeled dataset of text and extracted text](https://github.com/cohere-ai/notebooks/raw/main/notebooks/images/keyword-extraction-dataset.png)\n",
        "\n"
      ]
    },
    {
      "cell_type": "code",
      "execution_count": 4,
      "id": "a10e6784-6e8b-4a17-83fd-ec34d90c90c6",
      "metadata": {
        "id": "a10e6784-6e8b-4a17-83fd-ec34d90c90c6",
        "tags": []
      },
      "outputs": [],
      "source": [
        "\n",
        "movie_examples = [\n",
        "(\"Deadpool 2\", \"Deadpool 2 | Official HD Deadpool's \\\"Wet on Wet\\\" Teaser | 2018\"),\n",
        "(\"none\", \"Jordan Peele Just Became the First Black Writer-Director With a $100M Movie Debut\"),\n",
        "(\"Joker\", \"Joker Officially Rated “R”\"),\n",
        "(\"Free Guy\", \"Ryan Reynolds’ 'Free Guy' Receives July 3, 2020 Release Date - About a bank teller stuck in his routine that discovers he’s an NPC character in brutal open world game.\"),\n",
        "(\"none\", \"James Cameron congratulates Kevin Feige and Marvel!\"),\n",
        "(\"Guardians of the Galaxy\", \"The Cast of Guardians of the Galaxy release statement on James Gunn\"),\n",
        "]\n"
      ]
    },
    {
      "cell_type": "markdown",
      "id": "fdc57403-013a-4e31-94f8-27c18702c770",
      "metadata": {
        "id": "fdc57403-013a-4e31-94f8-27c18702c770"
      },
      "source": [
        "\n",
        "\n",
        "## Creating the extraction prompt\n",
        "\n",
        "We'll create a prompt that demonstrates the task to the model. The prompt contains the examples above, and then presents the input text and asks the model to extract the movie name.\n",
        "\n",
        "\n",
        "![Extraction prompt containing the examples and the input text](https://github.com/cohere-ai/notebooks/raw/main/notebooks/images/extraction-prompt-example.png)\n"
      ]
    },
    {
      "cell_type": "code",
      "execution_count": 20,
      "id": "0ae89a2b-9f94-4e1e-8d00-378cc1b48149",
      "metadata": {
        "id": "0ae89a2b-9f94-4e1e-8d00-378cc1b48149"
      },
      "outputs": [],
      "source": [
        "#@title Create the prompt (Run this cell to execute required code) {display-mode: \"form\"}\n",
        "\n",
        "class cohereExtractor():\n",
        "    def __init__(self, examples, example_labels, labels, task_desciption, example_prompt):\n",
        "        self.examples = examples\n",
        "        self.example_labels = example_labels\n",
        "        self.labels = labels\n",
        "        self.task_desciption = task_desciption\n",
        "        self.example_prompt = example_prompt\n",
        "\n",
        "    def make_prompt(self, example):\n",
        "        examples = self.examples + [example]\n",
        "        labels = self.example_labels + [\"\"]\n",
        "        return (self.task_desciption +\n",
        "                \"\\n---\\n\".join( [examples[i] + \"\\n\" +\n",
        "                                self.example_prompt +\n",
        "                                 labels[i] for i in range(len(examples))]))\n",
        "\n",
        "    def extract(self, example):\n",
        "      extraction = co.generate(\n",
        "          model='command',\n",
        "          prompt=self.make_prompt(example),\n",
        "          max_tokens=10,\n",
        "          temperature=0.1,\n",
        "          stop_sequences=[\"\\n\"])\n",
        "      return(extraction.generations[0].text[:-1])\n",
        "\n",
        "\n",
        "cohereMovieExtractor = cohereExtractor([e[1] for e in movie_examples],\n",
        "                                       [e[0] for e in movie_examples], [],\n",
        "                                       \"\",\n",
        "                                       \"extract the movie title from the post:\")\n",
        "\n",
        "# Uncomment to inspect the full prompt:\n",
        "# print(cohereMovieExtractor.make_prompt('<input text here>'))"
      ]
    },
    {
      "cell_type": "code",
      "execution_count": 8,
      "id": "Fw8V9H2EF16U",
      "metadata": {
        "colab": {
          "base_uri": "https://localhost:8080/"
        },
        "id": "Fw8V9H2EF16U",
        "outputId": "6a7a26b6-120d-4d7d-8331-de4a1125b12c"
      },
      "outputs": [
        {
          "output_type": "stream",
          "name": "stdout",
          "text": [
            "Deadpool 2 | Official HD Deadpool's \"Wet on Wet\" Teaser | 2018\n",
            "extract the movie title from the post:Deadpool 2\n",
            "---\n",
            "Jordan Peele Just Became the First Black Writer-Director With a $100M Movie Debut\n",
            "extract the movie title from the post:none\n",
            "---\n",
            "Joker Officially Rated “R”\n",
            "extract the movie title from the post:Joker\n",
            "---\n",
            "Ryan Reynolds’ 'Free Guy' Receives July 3, 2020 Release Date - About a bank teller stuck in his routine that discovers he’s an NPC character in brutal open world game.\n",
            "extract the movie title from the post:Free Guy\n",
            "---\n",
            "James Cameron congratulates Kevin Feige and Marvel!\n",
            "extract the movie title from the post:none\n",
            "---\n",
            "The Cast of Guardians of the Galaxy release statement on James Gunn\n",
            "extract the movie title from the post:Guardians of the Galaxy\n",
            "---\n",
            "<input text here>\n",
            "extract the movie title from the post:\n"
          ]
        }
      ],
      "source": [
        "# This is what the prompt looks like:\n",
        "print(cohereMovieExtractor.make_prompt('<input text here>'))"
      ]
    },
    {
      "cell_type": "markdown",
      "id": "aa02636a-eb2c-4096-a84e-5a8fb5f8249b",
      "metadata": {
        "id": "aa02636a-eb2c-4096-a84e-5a8fb5f8249b"
      },
      "source": [
        "## Getting the data\n",
        "Let's now make the API call to get the top posts for 2021 from r/movies."
      ]
    },
    {
      "cell_type": "code",
      "execution_count": 15,
      "id": "d569e098-d97e-41c2-93c7-7f10e09eb53d",
      "metadata": {
        "colab": {
          "base_uri": "https://localhost:8080/"
        },
        "id": "d569e098-d97e-41c2-93c7-7f10e09eb53d",
        "outputId": "50aa1b3e-81a8-4ab9-d670-253279700e96"
      },
      "outputs": [
        {
          "output_type": "stream",
          "name": "stdout",
          "text": [
            "{'detail': 'Not authenticated'}\n"
          ]
        }
      ],
      "source": [
        "num_posts = 10\n",
        "\n",
        "movies_list = get_post_titles(size=num_posts,\n",
        "      after=str(int(datetime.datetime(2021,1,1,0,0).timestamp())),\n",
        "      before=str(int(datetime.datetime(2022,1,1,0,0).timestamp())),\n",
        "      subreddit=\"movies\",\n",
        "      sort_type=\"score\",\n",
        "      sort=\"desc\")\n",
        "\n",
        "# Show the list\n",
        "movies_list"
      ]
    },
    {
      "cell_type": "markdown",
      "id": "29be719c-6ac9-49e1-a01c-e9ecac01c681",
      "metadata": {
        "id": "29be719c-6ac9-49e1-a01c-e9ecac01c681"
      },
      "source": [
        "## Running the model\n",
        "And now we loop over the posts and process each one of them with our extractor."
      ]
    },
    {
      "cell_type": "code",
      "source": [
        "movies_list = ['Avengers: Endgame is on air in the next week', 'My favorite movie is the terminator series','What is the best Harry Porter movie in your mind?']"
      ],
      "metadata": {
        "id": "UpnVb7BQsLTF"
      },
      "id": "UpnVb7BQsLTF",
      "execution_count": 16,
      "outputs": []
    },
    {
      "cell_type": "code",
      "execution_count": 21,
      "id": "999dad3e-7152-440d-bec9-ae8a89f10b8f",
      "metadata": {
        "colab": {
          "base_uri": "https://localhost:8080/"
        },
        "id": "999dad3e-7152-440d-bec9-ae8a89f10b8f",
        "outputId": "5bba1c0e-7336-47b6-e951-6ba3596bdced",
        "tags": []
      },
      "outputs": [
        {
          "output_type": "stream",
          "name": "stderr",
          "text": [
            "100%|██████████| 3/3 [00:01<00:00,  1.69it/s]\n"
          ]
        }
      ],
      "source": [
        "results = []\n",
        "for text in tqdm(movies_list):\n",
        "    try:\n",
        "        extracted_text = cohereMovieExtractor.extract(text)\n",
        "        results.append(extracted_text)\n",
        "    except Exception as e:\n",
        "        print('ERROR: ', e)"
      ]
    },
    {
      "cell_type": "markdown",
      "id": "a6a56981-5320-47d9-96bf-cf2b90278964",
      "metadata": {
        "id": "a6a56981-5320-47d9-96bf-cf2b90278964"
      },
      "source": [
        "Let's look at the results:"
      ]
    },
    {
      "cell_type": "code",
      "source": [
        "results"
      ],
      "metadata": {
        "id": "H9oYNqgzslVW",
        "outputId": "1dfdb604-3c35-4761-f3eb-759f0df0f44d",
        "colab": {
          "base_uri": "https://localhost:8080/"
        }
      },
      "id": "H9oYNqgzslVW",
      "execution_count": 22,
      "outputs": [
        {
          "output_type": "execute_result",
          "data": {
            "text/plain": [
              "['Avengers: Endgam', 'terminato', 'Harry Porte']"
            ]
          },
          "metadata": {},
          "execution_count": 22
        }
      ]
    },
    {
      "cell_type": "code",
      "execution_count": 23,
      "id": "296d7bde-c01e-48e2-bf41-24624307eca7",
      "metadata": {
        "colab": {
          "base_uri": "https://localhost:8080/",
          "height": 143
        },
        "id": "296d7bde-c01e-48e2-bf41-24624307eca7",
        "outputId": "d044bf8c-d86f-4804-bbea-134dd99669b8"
      },
      "outputs": [
        {
          "output_type": "execute_result",
          "data": {
            "text/plain": [
              "                                                text    extracted_text\n",
              "0       Avengers: Endgame is on air in the next week  Avengers: Endgam\n",
              "1         My favorite movie is the terminator series         terminato\n",
              "2  What is the best Harry Porter movie in your mind?       Harry Porte"
            ],
            "text/html": [
              "\n",
              "  <div id=\"df-1b7bf3a0-cae6-4f12-8ef1-c2d229477e43\">\n",
              "    <div class=\"colab-df-container\">\n",
              "      <div>\n",
              "<style scoped>\n",
              "    .dataframe tbody tr th:only-of-type {\n",
              "        vertical-align: middle;\n",
              "    }\n",
              "\n",
              "    .dataframe tbody tr th {\n",
              "        vertical-align: top;\n",
              "    }\n",
              "\n",
              "    .dataframe thead th {\n",
              "        text-align: right;\n",
              "    }\n",
              "</style>\n",
              "<table border=\"1\" class=\"dataframe\">\n",
              "  <thead>\n",
              "    <tr style=\"text-align: right;\">\n",
              "      <th></th>\n",
              "      <th>text</th>\n",
              "      <th>extracted_text</th>\n",
              "    </tr>\n",
              "  </thead>\n",
              "  <tbody>\n",
              "    <tr>\n",
              "      <th>0</th>\n",
              "      <td>Avengers: Endgame is on air in the next week</td>\n",
              "      <td>Avengers: Endgam</td>\n",
              "    </tr>\n",
              "    <tr>\n",
              "      <th>1</th>\n",
              "      <td>My favorite movie is the terminator series</td>\n",
              "      <td>terminato</td>\n",
              "    </tr>\n",
              "    <tr>\n",
              "      <th>2</th>\n",
              "      <td>What is the best Harry Porter movie in your mind?</td>\n",
              "      <td>Harry Porte</td>\n",
              "    </tr>\n",
              "  </tbody>\n",
              "</table>\n",
              "</div>\n",
              "      <button class=\"colab-df-convert\" onclick=\"convertToInteractive('df-1b7bf3a0-cae6-4f12-8ef1-c2d229477e43')\"\n",
              "              title=\"Convert this dataframe to an interactive table.\"\n",
              "              style=\"display:none;\">\n",
              "        \n",
              "  <svg xmlns=\"http://www.w3.org/2000/svg\" height=\"24px\"viewBox=\"0 0 24 24\"\n",
              "       width=\"24px\">\n",
              "    <path d=\"M0 0h24v24H0V0z\" fill=\"none\"/>\n",
              "    <path d=\"M18.56 5.44l.94 2.06.94-2.06 2.06-.94-2.06-.94-.94-2.06-.94 2.06-2.06.94zm-11 1L8.5 8.5l.94-2.06 2.06-.94-2.06-.94L8.5 2.5l-.94 2.06-2.06.94zm10 10l.94 2.06.94-2.06 2.06-.94-2.06-.94-.94-2.06-.94 2.06-2.06.94z\"/><path d=\"M17.41 7.96l-1.37-1.37c-.4-.4-.92-.59-1.43-.59-.52 0-1.04.2-1.43.59L10.3 9.45l-7.72 7.72c-.78.78-.78 2.05 0 2.83L4 21.41c.39.39.9.59 1.41.59.51 0 1.02-.2 1.41-.59l7.78-7.78 2.81-2.81c.8-.78.8-2.07 0-2.86zM5.41 20L4 18.59l7.72-7.72 1.47 1.35L5.41 20z\"/>\n",
              "  </svg>\n",
              "      </button>\n",
              "      \n",
              "  <style>\n",
              "    .colab-df-container {\n",
              "      display:flex;\n",
              "      flex-wrap:wrap;\n",
              "      gap: 12px;\n",
              "    }\n",
              "\n",
              "    .colab-df-convert {\n",
              "      background-color: #E8F0FE;\n",
              "      border: none;\n",
              "      border-radius: 50%;\n",
              "      cursor: pointer;\n",
              "      display: none;\n",
              "      fill: #1967D2;\n",
              "      height: 32px;\n",
              "      padding: 0 0 0 0;\n",
              "      width: 32px;\n",
              "    }\n",
              "\n",
              "    .colab-df-convert:hover {\n",
              "      background-color: #E2EBFA;\n",
              "      box-shadow: 0px 1px 2px rgba(60, 64, 67, 0.3), 0px 1px 3px 1px rgba(60, 64, 67, 0.15);\n",
              "      fill: #174EA6;\n",
              "    }\n",
              "\n",
              "    [theme=dark] .colab-df-convert {\n",
              "      background-color: #3B4455;\n",
              "      fill: #D2E3FC;\n",
              "    }\n",
              "\n",
              "    [theme=dark] .colab-df-convert:hover {\n",
              "      background-color: #434B5C;\n",
              "      box-shadow: 0px 1px 3px 1px rgba(0, 0, 0, 0.15);\n",
              "      filter: drop-shadow(0px 1px 2px rgba(0, 0, 0, 0.3));\n",
              "      fill: #FFFFFF;\n",
              "    }\n",
              "  </style>\n",
              "\n",
              "      <script>\n",
              "        const buttonEl =\n",
              "          document.querySelector('#df-1b7bf3a0-cae6-4f12-8ef1-c2d229477e43 button.colab-df-convert');\n",
              "        buttonEl.style.display =\n",
              "          google.colab.kernel.accessAllowed ? 'block' : 'none';\n",
              "\n",
              "        async function convertToInteractive(key) {\n",
              "          const element = document.querySelector('#df-1b7bf3a0-cae6-4f12-8ef1-c2d229477e43');\n",
              "          const dataTable =\n",
              "            await google.colab.kernel.invokeFunction('convertToInteractive',\n",
              "                                                     [key], {});\n",
              "          if (!dataTable) return;\n",
              "\n",
              "          const docLinkHtml = 'Like what you see? Visit the ' +\n",
              "            '<a target=\"_blank\" href=https://colab.research.google.com/notebooks/data_table.ipynb>data table notebook</a>'\n",
              "            + ' to learn more about interactive tables.';\n",
              "          element.innerHTML = '';\n",
              "          dataTable['output_type'] = 'display_data';\n",
              "          await google.colab.output.renderOutput(dataTable, element);\n",
              "          const docLink = document.createElement('div');\n",
              "          docLink.innerHTML = docLinkHtml;\n",
              "          element.appendChild(docLink);\n",
              "        }\n",
              "      </script>\n",
              "    </div>\n",
              "  </div>\n",
              "  "
            ]
          },
          "metadata": {},
          "execution_count": 23
        }
      ],
      "source": [
        "pd.DataFrame(data={'text': movies_list, 'extracted_text': results})"
      ]
    },
    {
      "cell_type": "markdown",
      "id": "8ce85595-0aca-43d1-9d27-dd2954919970",
      "metadata": {
        "id": "8ce85595-0aca-43d1-9d27-dd2954919970"
      },
      "source": [
        "Looking at these results, the model got 9/10 correctly. It didn't pick up on Shaolin Soccer and God of Gambler in example \\#4. It also called the second example \"Pixar's Luca\" instead of \"Luca\". But maybe we'll let this one slide.\n",
        "\n",
        "When experimenting with extrction prompts, we'll often find edge-cases along the way. What if a post has two movies mentioned, for example? The more we run into such examples, the more examples we can add to the prompt that address these cases.\n",
        "\n",
        "## How well does this work?\n",
        "We can better measure the performance of this extraction method using a larger labeled dataset. So let's load a test set of 100 examples:"
      ]
    },
    {
      "cell_type": "code",
      "execution_count": 24,
      "id": "f39dd295-debd-48d3-ad30-76068e4e47e6",
      "metadata": {
        "colab": {
          "base_uri": "https://localhost:8080/",
          "height": 423
        },
        "id": "f39dd295-debd-48d3-ad30-76068e4e47e6",
        "outputId": "409ed587-9438-498f-a56b-5101c976e93c",
        "tags": []
      },
      "outputs": [
        {
          "data": {
            "text/html": [
              "\n",
              "  <div id=\"df-c5170135-3de8-42f3-9d30-0cc93678392c\">\n",
              "    <div class=\"colab-df-container\">\n",
              "      <div>\n",
              "<style scoped>\n",
              "    .dataframe tbody tr th:only-of-type {\n",
              "        vertical-align: middle;\n",
              "    }\n",
              "\n",
              "    .dataframe tbody tr th {\n",
              "        vertical-align: top;\n",
              "    }\n",
              "\n",
              "    .dataframe thead th {\n",
              "        text-align: right;\n",
              "    }\n",
              "</style>\n",
              "<table border=\"1\" class=\"dataframe\">\n",
              "  <thead>\n",
              "    <tr style=\"text-align: right;\">\n",
              "      <th></th>\n",
              "      <th>text</th>\n",
              "      <th>label</th>\n",
              "    </tr>\n",
              "  </thead>\n",
              "  <tbody>\n",
              "    <tr>\n",
              "      <th>0</th>\n",
              "      <td>Disney's streaming service loses some movies due to old licensing deals</td>\n",
              "      <td>none</td>\n",
              "    </tr>\n",
              "    <tr>\n",
              "      <th>1</th>\n",
              "      <td>Hi, I’m Sam Raimi, producer of THE GRUDGE which hits theaters tonight. Ask Me Anything!</td>\n",
              "      <td>The Grudge</td>\n",
              "    </tr>\n",
              "    <tr>\n",
              "      <th>2</th>\n",
              "      <td>'Parasite' Named Best Picture by Australia's AACTA Awards</td>\n",
              "      <td>Parasite</td>\n",
              "    </tr>\n",
              "    <tr>\n",
              "      <th>3</th>\n",
              "      <td>Danny Trejo To Star In Vampire Spaghetti Western ‘Death Rider in the House of Vampires’</td>\n",
              "      <td>Death Rider in the House of Vampires</td>\n",
              "    </tr>\n",
              "    <tr>\n",
              "      <th>4</th>\n",
              "      <td>I really wish the 'realistic' CGI animal trend would end.</td>\n",
              "      <td>none</td>\n",
              "    </tr>\n",
              "    <tr>\n",
              "      <th>...</th>\n",
              "      <td>...</td>\n",
              "      <td>...</td>\n",
              "    </tr>\n",
              "    <tr>\n",
              "      <th>95</th>\n",
              "      <td>Hair Love | Oscar Winning Short Film (Full)</td>\n",
              "      <td>Hair Love</td>\n",
              "    </tr>\n",
              "    <tr>\n",
              "      <th>96</th>\n",
              "      <td>First image of Jason Alexander in Christian film industry satire 'Faith Based'</td>\n",
              "      <td>Faith Based</td>\n",
              "    </tr>\n",
              "    <tr>\n",
              "      <th>97</th>\n",
              "      <td>'Borderlands' Movie in the Works From Eli Roth, Lionsgate</td>\n",
              "      <td>Borderlands</td>\n",
              "    </tr>\n",
              "    <tr>\n",
              "      <th>98</th>\n",
              "      <td>Taika Waititi putting his Oscar \"away\" after winning best adapted screenplay for JOJO RABBIT</td>\n",
              "      <td>Jojo Rabbit</td>\n",
              "    </tr>\n",
              "    <tr>\n",
              "      <th>99</th>\n",
              "      <td>Oscar-Winning 'Parasite' Lands One-Week IMAX Release Starting February 21 in 200+ Theaters</td>\n",
              "      <td>Parasite</td>\n",
              "    </tr>\n",
              "  </tbody>\n",
              "</table>\n",
              "<p>100 rows × 2 columns</p>\n",
              "</div>\n",
              "      <button class=\"colab-df-convert\" onclick=\"convertToInteractive('df-c5170135-3de8-42f3-9d30-0cc93678392c')\"\n",
              "              title=\"Convert this dataframe to an interactive table.\"\n",
              "              style=\"display:none;\">\n",
              "        \n",
              "  <svg xmlns=\"http://www.w3.org/2000/svg\" height=\"24px\"viewBox=\"0 0 24 24\"\n",
              "       width=\"24px\">\n",
              "    <path d=\"M0 0h24v24H0V0z\" fill=\"none\"/>\n",
              "    <path d=\"M18.56 5.44l.94 2.06.94-2.06 2.06-.94-2.06-.94-.94-2.06-.94 2.06-2.06.94zm-11 1L8.5 8.5l.94-2.06 2.06-.94-2.06-.94L8.5 2.5l-.94 2.06-2.06.94zm10 10l.94 2.06.94-2.06 2.06-.94-2.06-.94-.94-2.06-.94 2.06-2.06.94z\"/><path d=\"M17.41 7.96l-1.37-1.37c-.4-.4-.92-.59-1.43-.59-.52 0-1.04.2-1.43.59L10.3 9.45l-7.72 7.72c-.78.78-.78 2.05 0 2.83L4 21.41c.39.39.9.59 1.41.59.51 0 1.02-.2 1.41-.59l7.78-7.78 2.81-2.81c.8-.78.8-2.07 0-2.86zM5.41 20L4 18.59l7.72-7.72 1.47 1.35L5.41 20z\"/>\n",
              "  </svg>\n",
              "      </button>\n",
              "      \n",
              "  <style>\n",
              "    .colab-df-container {\n",
              "      display:flex;\n",
              "      flex-wrap:wrap;\n",
              "      gap: 12px;\n",
              "    }\n",
              "\n",
              "    .colab-df-convert {\n",
              "      background-color: #E8F0FE;\n",
              "      border: none;\n",
              "      border-radius: 50%;\n",
              "      cursor: pointer;\n",
              "      display: none;\n",
              "      fill: #1967D2;\n",
              "      height: 32px;\n",
              "      padding: 0 0 0 0;\n",
              "      width: 32px;\n",
              "    }\n",
              "\n",
              "    .colab-df-convert:hover {\n",
              "      background-color: #E2EBFA;\n",
              "      box-shadow: 0px 1px 2px rgba(60, 64, 67, 0.3), 0px 1px 3px 1px rgba(60, 64, 67, 0.15);\n",
              "      fill: #174EA6;\n",
              "    }\n",
              "\n",
              "    [theme=dark] .colab-df-convert {\n",
              "      background-color: #3B4455;\n",
              "      fill: #D2E3FC;\n",
              "    }\n",
              "\n",
              "    [theme=dark] .colab-df-convert:hover {\n",
              "      background-color: #434B5C;\n",
              "      box-shadow: 0px 1px 3px 1px rgba(0, 0, 0, 0.15);\n",
              "      filter: drop-shadow(0px 1px 2px rgba(0, 0, 0, 0.3));\n",
              "      fill: #FFFFFF;\n",
              "    }\n",
              "  </style>\n",
              "\n",
              "      <script>\n",
              "        const buttonEl =\n",
              "          document.querySelector('#df-c5170135-3de8-42f3-9d30-0cc93678392c button.colab-df-convert');\n",
              "        buttonEl.style.display =\n",
              "          google.colab.kernel.accessAllowed ? 'block' : 'none';\n",
              "\n",
              "        async function convertToInteractive(key) {\n",
              "          const element = document.querySelector('#df-c5170135-3de8-42f3-9d30-0cc93678392c');\n",
              "          const dataTable =\n",
              "            await google.colab.kernel.invokeFunction('convertToInteractive',\n",
              "                                                     [key], {});\n",
              "          if (!dataTable) return;\n",
              "\n",
              "          const docLinkHtml = 'Like what you see? Visit the ' +\n",
              "            '<a target=\"_blank\" href=https://colab.research.google.com/notebooks/data_table.ipynb>data table notebook</a>'\n",
              "            + ' to learn more about interactive tables.';\n",
              "          element.innerHTML = '';\n",
              "          dataTable['output_type'] = 'display_data';\n",
              "          await google.colab.output.renderOutput(dataTable, element);\n",
              "          const docLink = document.createElement('div');\n",
              "          docLink.innerHTML = docLinkHtml;\n",
              "          element.appendChild(docLink);\n",
              "        }\n",
              "      </script>\n",
              "    </div>\n",
              "  </div>\n",
              "  "
            ],
            "text/plain": [
              "                                                                                            text  \\\n",
              "0                        Disney's streaming service loses some movies due to old licensing deals   \n",
              "1        Hi, I’m Sam Raimi, producer of THE GRUDGE which hits theaters tonight. Ask Me Anything!   \n",
              "2                                      'Parasite' Named Best Picture by Australia's AACTA Awards   \n",
              "3        Danny Trejo To Star In Vampire Spaghetti Western ‘Death Rider in the House of Vampires’   \n",
              "4                                      I really wish the 'realistic' CGI animal trend would end.   \n",
              "..                                                                                           ...   \n",
              "95                                                   Hair Love | Oscar Winning Short Film (Full)   \n",
              "96                First image of Jason Alexander in Christian film industry satire 'Faith Based'   \n",
              "97                                     'Borderlands' Movie in the Works From Eli Roth, Lionsgate   \n",
              "98  Taika Waititi putting his Oscar \"away\" after winning best adapted screenplay for JOJO RABBIT   \n",
              "99    Oscar-Winning 'Parasite' Lands One-Week IMAX Release Starting February 21 in 200+ Theaters   \n",
              "\n",
              "                                   label  \n",
              "0                                   none  \n",
              "1                             The Grudge  \n",
              "2                               Parasite  \n",
              "3   Death Rider in the House of Vampires  \n",
              "4                                   none  \n",
              "..                                   ...  \n",
              "95                             Hair Love  \n",
              "96                           Faith Based  \n",
              "97                           Borderlands  \n",
              "98                           Jojo Rabbit  \n",
              "99                              Parasite  \n",
              "\n",
              "[100 rows x 2 columns]"
            ]
          },
          "execution_count": 24,
          "metadata": {},
          "output_type": "execute_result"
        }
      ],
      "source": [
        "test_df = pd.read_csv('https://raw.githubusercontent.com/cohere-ai/notebooks/main/notebooks/data/movie_extraction_test_set_100.csv',index_col=0)\n",
        "test_df"
      ]
    },
    {
      "cell_type": "markdown",
      "id": "f57acd7d-4da3-4ef1-9488-556d9474fc59",
      "metadata": {
        "id": "f57acd7d-4da3-4ef1-9488-556d9474fc59"
      },
      "source": [
        "Let's run the extractor on these post titles (calling the API in parallel for quicker results):"
      ]
    },
    {
      "cell_type": "code",
      "execution_count": 27,
      "id": "db5e9ff7-96fd-434f-859d-332866839af5",
      "metadata": {
        "id": "db5e9ff7-96fd-434f-859d-332866839af5",
        "outputId": "4a477092-fbb1-4bea-bc48-221876793472",
        "colab": {
          "base_uri": "https://localhost:8080/",
          "height": 373
        }
      },
      "outputs": [
        {
          "output_type": "stream",
          "name": "stderr",
          "text": [
            "100%|██████████| 5/5 [00:06<00:00,  1.26s/it]\n"
          ]
        },
        {
          "output_type": "error",
          "ename": "ValueError",
          "evalue": "ignored",
          "traceback": [
            "\u001b[0;31m---------------------------------------------------------------------------\u001b[0m",
            "\u001b[0;31mValueError\u001b[0m                                Traceback (most recent call last)",
            "\u001b[0;32m<ipython-input-27-a48119dcbdf0>\u001b[0m in \u001b[0;36m<cell line: 18>\u001b[0;34m()\u001b[0m\n\u001b[1;32m     16\u001b[0m \u001b[0;34m\u001b[0m\u001b[0m\n\u001b[1;32m     17\u001b[0m \u001b[0;31m# Save results\u001b[0m\u001b[0;34m\u001b[0m\u001b[0;34m\u001b[0m\u001b[0m\n\u001b[0;32m---> 18\u001b[0;31m \u001b[0mtest_df\u001b[0m\u001b[0;34m[\u001b[0m\u001b[0;34m'extracted_text'\u001b[0m\u001b[0;34m]\u001b[0m \u001b[0;34m=\u001b[0m \u001b[0mextracted\u001b[0m\u001b[0;34m\u001b[0m\u001b[0;34m\u001b[0m\u001b[0m\n\u001b[0m",
            "\u001b[0;32m/usr/local/lib/python3.10/dist-packages/pandas/core/frame.py\u001b[0m in \u001b[0;36m__setitem__\u001b[0;34m(self, key, value)\u001b[0m\n\u001b[1;32m   3978\u001b[0m         \u001b[0;32melse\u001b[0m\u001b[0;34m:\u001b[0m\u001b[0;34m\u001b[0m\u001b[0;34m\u001b[0m\u001b[0m\n\u001b[1;32m   3979\u001b[0m             \u001b[0;31m# set column\u001b[0m\u001b[0;34m\u001b[0m\u001b[0;34m\u001b[0m\u001b[0m\n\u001b[0;32m-> 3980\u001b[0;31m             \u001b[0mself\u001b[0m\u001b[0;34m.\u001b[0m\u001b[0m_set_item\u001b[0m\u001b[0;34m(\u001b[0m\u001b[0mkey\u001b[0m\u001b[0;34m,\u001b[0m \u001b[0mvalue\u001b[0m\u001b[0;34m)\u001b[0m\u001b[0;34m\u001b[0m\u001b[0;34m\u001b[0m\u001b[0m\n\u001b[0m\u001b[1;32m   3981\u001b[0m \u001b[0;34m\u001b[0m\u001b[0m\n\u001b[1;32m   3982\u001b[0m     \u001b[0;32mdef\u001b[0m \u001b[0m_setitem_slice\u001b[0m\u001b[0;34m(\u001b[0m\u001b[0mself\u001b[0m\u001b[0;34m,\u001b[0m \u001b[0mkey\u001b[0m\u001b[0;34m:\u001b[0m \u001b[0mslice\u001b[0m\u001b[0;34m,\u001b[0m \u001b[0mvalue\u001b[0m\u001b[0;34m)\u001b[0m\u001b[0;34m:\u001b[0m\u001b[0;34m\u001b[0m\u001b[0;34m\u001b[0m\u001b[0m\n",
            "\u001b[0;32m/usr/local/lib/python3.10/dist-packages/pandas/core/frame.py\u001b[0m in \u001b[0;36m_set_item\u001b[0;34m(self, key, value)\u001b[0m\n\u001b[1;32m   4172\u001b[0m         \u001b[0mensure\u001b[0m \u001b[0mhomogeneity\u001b[0m\u001b[0;34m.\u001b[0m\u001b[0;34m\u001b[0m\u001b[0;34m\u001b[0m\u001b[0m\n\u001b[1;32m   4173\u001b[0m         \"\"\"\n\u001b[0;32m-> 4174\u001b[0;31m         \u001b[0mvalue\u001b[0m \u001b[0;34m=\u001b[0m \u001b[0mself\u001b[0m\u001b[0;34m.\u001b[0m\u001b[0m_sanitize_column\u001b[0m\u001b[0;34m(\u001b[0m\u001b[0mvalue\u001b[0m\u001b[0;34m)\u001b[0m\u001b[0;34m\u001b[0m\u001b[0;34m\u001b[0m\u001b[0m\n\u001b[0m\u001b[1;32m   4175\u001b[0m \u001b[0;34m\u001b[0m\u001b[0m\n\u001b[1;32m   4176\u001b[0m         if (\n",
            "\u001b[0;32m/usr/local/lib/python3.10/dist-packages/pandas/core/frame.py\u001b[0m in \u001b[0;36m_sanitize_column\u001b[0;34m(self, value)\u001b[0m\n\u001b[1;32m   4913\u001b[0m \u001b[0;34m\u001b[0m\u001b[0m\n\u001b[1;32m   4914\u001b[0m         \u001b[0;32mif\u001b[0m \u001b[0mis_list_like\u001b[0m\u001b[0;34m(\u001b[0m\u001b[0mvalue\u001b[0m\u001b[0;34m)\u001b[0m\u001b[0;34m:\u001b[0m\u001b[0;34m\u001b[0m\u001b[0;34m\u001b[0m\u001b[0m\n\u001b[0;32m-> 4915\u001b[0;31m             \u001b[0mcom\u001b[0m\u001b[0;34m.\u001b[0m\u001b[0mrequire_length_match\u001b[0m\u001b[0;34m(\u001b[0m\u001b[0mvalue\u001b[0m\u001b[0;34m,\u001b[0m \u001b[0mself\u001b[0m\u001b[0;34m.\u001b[0m\u001b[0mindex\u001b[0m\u001b[0;34m)\u001b[0m\u001b[0;34m\u001b[0m\u001b[0;34m\u001b[0m\u001b[0m\n\u001b[0m\u001b[1;32m   4916\u001b[0m         \u001b[0;32mreturn\u001b[0m \u001b[0msanitize_array\u001b[0m\u001b[0;34m(\u001b[0m\u001b[0mvalue\u001b[0m\u001b[0;34m,\u001b[0m \u001b[0mself\u001b[0m\u001b[0;34m.\u001b[0m\u001b[0mindex\u001b[0m\u001b[0;34m,\u001b[0m \u001b[0mcopy\u001b[0m\u001b[0;34m=\u001b[0m\u001b[0;32mTrue\u001b[0m\u001b[0;34m,\u001b[0m \u001b[0mallow_2d\u001b[0m\u001b[0;34m=\u001b[0m\u001b[0;32mTrue\u001b[0m\u001b[0;34m)\u001b[0m\u001b[0;34m\u001b[0m\u001b[0;34m\u001b[0m\u001b[0m\n\u001b[1;32m   4917\u001b[0m \u001b[0;34m\u001b[0m\u001b[0m\n",
            "\u001b[0;32m/usr/local/lib/python3.10/dist-packages/pandas/core/common.py\u001b[0m in \u001b[0;36mrequire_length_match\u001b[0;34m(data, index)\u001b[0m\n\u001b[1;32m    569\u001b[0m     \"\"\"\n\u001b[1;32m    570\u001b[0m     \u001b[0;32mif\u001b[0m \u001b[0mlen\u001b[0m\u001b[0;34m(\u001b[0m\u001b[0mdata\u001b[0m\u001b[0;34m)\u001b[0m \u001b[0;34m!=\u001b[0m \u001b[0mlen\u001b[0m\u001b[0;34m(\u001b[0m\u001b[0mindex\u001b[0m\u001b[0;34m)\u001b[0m\u001b[0;34m:\u001b[0m\u001b[0;34m\u001b[0m\u001b[0;34m\u001b[0m\u001b[0m\n\u001b[0;32m--> 571\u001b[0;31m         raise ValueError(\n\u001b[0m\u001b[1;32m    572\u001b[0m             \u001b[0;34m\"Length of values \"\u001b[0m\u001b[0;34m\u001b[0m\u001b[0;34m\u001b[0m\u001b[0m\n\u001b[1;32m    573\u001b[0m             \u001b[0;34mf\"({len(data)}) \"\u001b[0m\u001b[0;34m\u001b[0m\u001b[0;34m\u001b[0m\u001b[0m\n",
            "\u001b[0;31mValueError\u001b[0m: Length of values (5) does not match length of index (100)"
          ]
        }
      ],
      "source": [
        "from concurrent.futures import ThreadPoolExecutor\n",
        "\n",
        "extracted = []\n",
        "\n",
        "# # Run the model to extract the entities\n",
        "# with ThreadPoolExecutor(max_workers=8) as executor:\n",
        "#     for i in executor.map(cohereMovieExtractor.extract, test_df['text']):\n",
        "#         extracted.append(str(i).strip())\n",
        "\n",
        "for text in tqdm(test_df['text'][5:10]):\n",
        "    try:\n",
        "        extracted_text = cohereMovieExtractor.extract(text)\n",
        "        extracted.append(extracted_text)\n",
        "    except Exception as e:\n",
        "        print('ERROR: ', e)\n",
        "\n",
        "# Save results\n",
        "\n",
        "test_df['extracted_text'] = extracted"
      ]
    },
    {
      "cell_type": "markdown",
      "id": "ca0b61fb-d97e-4623-a936-037d41935c9a",
      "metadata": {
        "id": "ca0b61fb-d97e-4623-a936-037d41935c9a"
      },
      "source": [
        "Let's look at some results:"
      ]
    },
    {
      "cell_type": "code",
      "execution_count": null,
      "id": "55b90bd5-fbd4-427d-9fb5-088caa8b9faa",
      "metadata": {
        "colab": {
          "base_uri": "https://localhost:8080/",
          "height": 206
        },
        "id": "55b90bd5-fbd4-427d-9fb5-088caa8b9faa",
        "outputId": "15298f0d-e9eb-427f-af0d-af45438a3836",
        "tags": []
      },
      "outputs": [
        {
          "data": {
            "text/html": [
              "\n",
              "  <div id=\"df-8b31b9f1-8ec2-4bb7-b461-daa11f976405\">\n",
              "    <div class=\"colab-df-container\">\n",
              "      <div>\n",
              "<style scoped>\n",
              "    .dataframe tbody tr th:only-of-type {\n",
              "        vertical-align: middle;\n",
              "    }\n",
              "\n",
              "    .dataframe tbody tr th {\n",
              "        vertical-align: top;\n",
              "    }\n",
              "\n",
              "    .dataframe thead th {\n",
              "        text-align: right;\n",
              "    }\n",
              "</style>\n",
              "<table border=\"1\" class=\"dataframe\">\n",
              "  <thead>\n",
              "    <tr style=\"text-align: right;\">\n",
              "      <th></th>\n",
              "      <th>text</th>\n",
              "      <th>label</th>\n",
              "      <th>extracted_text</th>\n",
              "    </tr>\n",
              "  </thead>\n",
              "  <tbody>\n",
              "    <tr>\n",
              "      <th>0</th>\n",
              "      <td>Disney's streaming service loses some movies due to old licensing deals</td>\n",
              "      <td>none</td>\n",
              "      <td>none</td>\n",
              "    </tr>\n",
              "    <tr>\n",
              "      <th>1</th>\n",
              "      <td>Hi, I’m Sam Raimi, producer of THE GRUDGE which hits theaters tonight. Ask Me Anything!</td>\n",
              "      <td>The Grudge</td>\n",
              "      <td>The Grudge</td>\n",
              "    </tr>\n",
              "    <tr>\n",
              "      <th>2</th>\n",
              "      <td>'Parasite' Named Best Picture by Australia's AACTA Awards</td>\n",
              "      <td>Parasite</td>\n",
              "      <td>Parasite</td>\n",
              "    </tr>\n",
              "    <tr>\n",
              "      <th>3</th>\n",
              "      <td>Danny Trejo To Star In Vampire Spaghetti Western ‘Death Rider in the House of Vampires’</td>\n",
              "      <td>Death Rider in the House of Vampires</td>\n",
              "      <td>Death Rider</td>\n",
              "    </tr>\n",
              "    <tr>\n",
              "      <th>4</th>\n",
              "      <td>I really wish the 'realistic' CGI animal trend would end.</td>\n",
              "      <td>none</td>\n",
              "      <td>none</td>\n",
              "    </tr>\n",
              "  </tbody>\n",
              "</table>\n",
              "</div>\n",
              "      <button class=\"colab-df-convert\" onclick=\"convertToInteractive('df-8b31b9f1-8ec2-4bb7-b461-daa11f976405')\"\n",
              "              title=\"Convert this dataframe to an interactive table.\"\n",
              "              style=\"display:none;\">\n",
              "        \n",
              "  <svg xmlns=\"http://www.w3.org/2000/svg\" height=\"24px\"viewBox=\"0 0 24 24\"\n",
              "       width=\"24px\">\n",
              "    <path d=\"M0 0h24v24H0V0z\" fill=\"none\"/>\n",
              "    <path d=\"M18.56 5.44l.94 2.06.94-2.06 2.06-.94-2.06-.94-.94-2.06-.94 2.06-2.06.94zm-11 1L8.5 8.5l.94-2.06 2.06-.94-2.06-.94L8.5 2.5l-.94 2.06-2.06.94zm10 10l.94 2.06.94-2.06 2.06-.94-2.06-.94-.94-2.06-.94 2.06-2.06.94z\"/><path d=\"M17.41 7.96l-1.37-1.37c-.4-.4-.92-.59-1.43-.59-.52 0-1.04.2-1.43.59L10.3 9.45l-7.72 7.72c-.78.78-.78 2.05 0 2.83L4 21.41c.39.39.9.59 1.41.59.51 0 1.02-.2 1.41-.59l7.78-7.78 2.81-2.81c.8-.78.8-2.07 0-2.86zM5.41 20L4 18.59l7.72-7.72 1.47 1.35L5.41 20z\"/>\n",
              "  </svg>\n",
              "      </button>\n",
              "      \n",
              "  <style>\n",
              "    .colab-df-container {\n",
              "      display:flex;\n",
              "      flex-wrap:wrap;\n",
              "      gap: 12px;\n",
              "    }\n",
              "\n",
              "    .colab-df-convert {\n",
              "      background-color: #E8F0FE;\n",
              "      border: none;\n",
              "      border-radius: 50%;\n",
              "      cursor: pointer;\n",
              "      display: none;\n",
              "      fill: #1967D2;\n",
              "      height: 32px;\n",
              "      padding: 0 0 0 0;\n",
              "      width: 32px;\n",
              "    }\n",
              "\n",
              "    .colab-df-convert:hover {\n",
              "      background-color: #E2EBFA;\n",
              "      box-shadow: 0px 1px 2px rgba(60, 64, 67, 0.3), 0px 1px 3px 1px rgba(60, 64, 67, 0.15);\n",
              "      fill: #174EA6;\n",
              "    }\n",
              "\n",
              "    [theme=dark] .colab-df-convert {\n",
              "      background-color: #3B4455;\n",
              "      fill: #D2E3FC;\n",
              "    }\n",
              "\n",
              "    [theme=dark] .colab-df-convert:hover {\n",
              "      background-color: #434B5C;\n",
              "      box-shadow: 0px 1px 3px 1px rgba(0, 0, 0, 0.15);\n",
              "      filter: drop-shadow(0px 1px 2px rgba(0, 0, 0, 0.3));\n",
              "      fill: #FFFFFF;\n",
              "    }\n",
              "  </style>\n",
              "\n",
              "      <script>\n",
              "        const buttonEl =\n",
              "          document.querySelector('#df-8b31b9f1-8ec2-4bb7-b461-daa11f976405 button.colab-df-convert');\n",
              "        buttonEl.style.display =\n",
              "          google.colab.kernel.accessAllowed ? 'block' : 'none';\n",
              "\n",
              "        async function convertToInteractive(key) {\n",
              "          const element = document.querySelector('#df-8b31b9f1-8ec2-4bb7-b461-daa11f976405');\n",
              "          const dataTable =\n",
              "            await google.colab.kernel.invokeFunction('convertToInteractive',\n",
              "                                                     [key], {});\n",
              "          if (!dataTable) return;\n",
              "\n",
              "          const docLinkHtml = 'Like what you see? Visit the ' +\n",
              "            '<a target=\"_blank\" href=https://colab.research.google.com/notebooks/data_table.ipynb>data table notebook</a>'\n",
              "            + ' to learn more about interactive tables.';\n",
              "          element.innerHTML = '';\n",
              "          dataTable['output_type'] = 'display_data';\n",
              "          await google.colab.output.renderOutput(dataTable, element);\n",
              "          const docLink = document.createElement('div');\n",
              "          docLink.innerHTML = docLinkHtml;\n",
              "          element.appendChild(docLink);\n",
              "        }\n",
              "      </script>\n",
              "    </div>\n",
              "  </div>\n",
              "  "
            ],
            "text/plain": [
              "                                                                                      text  ... extracted_text\n",
              "0                  Disney's streaming service loses some movies due to old licensing deals  ...           none\n",
              "1  Hi, I’m Sam Raimi, producer of THE GRUDGE which hits theaters tonight. Ask Me Anything!  ...     The Grudge\n",
              "2                                'Parasite' Named Best Picture by Australia's AACTA Awards  ...       Parasite\n",
              "3  Danny Trejo To Star In Vampire Spaghetti Western ‘Death Rider in the House of Vampires’  ...    Death Rider\n",
              "4                                I really wish the 'realistic' CGI animal trend would end.  ...           none\n",
              "\n",
              "[5 rows x 3 columns]"
            ]
          },
          "execution_count": 24,
          "metadata": {},
          "output_type": "execute_result"
        }
      ],
      "source": [
        "test_df.head()"
      ]
    },
    {
      "cell_type": "markdown",
      "id": "887f90b0-131c-47e8-803e-405114a32986",
      "metadata": {
        "id": "887f90b0-131c-47e8-803e-405114a32986"
      },
      "source": [
        "Let's calculate the accuracy by comparing to the labeled examples"
      ]
    },
    {
      "cell_type": "code",
      "execution_count": null,
      "id": "992b3b1c-85a0-47e0-8821-d843882afc0b",
      "metadata": {
        "colab": {
          "base_uri": "https://localhost:8080/"
        },
        "id": "992b3b1c-85a0-47e0-8821-d843882afc0b",
        "outputId": "03a3670b-6354-4bd2-a195-e3c4fc55db9d"
      },
      "outputs": [
        {
          "name": "stdout",
          "output_type": "stream",
          "text": [
            "Classification accuracy 89.0%\n"
          ]
        }
      ],
      "source": [
        "# Compare the label to the extracted text\n",
        "test_df['correct'] = (test_df['label'].str.lower() == test_df['extracted_text'].str.lower()).astype(int)\n",
        "\n",
        "# Print the accuracy\n",
        "print(f'Classification accuracy {test_df[\"correct\"].mean() *100}%')"
      ]
    },
    {
      "cell_type": "markdown",
      "id": "dd278dc2-6ec0-47a8-906e-907e0da445cf",
      "metadata": {
        "id": "dd278dc2-6ec0-47a8-906e-907e0da445cf"
      },
      "source": [
        "So it seems this prompt works well on this small test set. It's not guaranteed it will do as well on other sets, however. The prompt can be improved by trying on more data, discovering edge cases, and adding more examples to the prompt.\n",
        "\n",
        "We can look at the examples it got wrong:"
      ]
    },
    {
      "cell_type": "code",
      "execution_count": null,
      "id": "5215a8b6-d19b-4622-af54-98bfb9b3118a",
      "metadata": {
        "colab": {
          "base_uri": "https://localhost:8080/",
          "height": 490
        },
        "id": "5215a8b6-d19b-4622-af54-98bfb9b3118a",
        "outputId": "418c73b9-e116-45a1-9e01-879d2ad976db"
      },
      "outputs": [
        {
          "data": {
            "text/html": [
              "\n",
              "  <div id=\"df-5367268b-259d-4325-993f-773116de9ad4\">\n",
              "    <div class=\"colab-df-container\">\n",
              "      <div>\n",
              "<style scoped>\n",
              "    .dataframe tbody tr th:only-of-type {\n",
              "        vertical-align: middle;\n",
              "    }\n",
              "\n",
              "    .dataframe tbody tr th {\n",
              "        vertical-align: top;\n",
              "    }\n",
              "\n",
              "    .dataframe thead th {\n",
              "        text-align: right;\n",
              "    }\n",
              "</style>\n",
              "<table border=\"1\" class=\"dataframe\">\n",
              "  <thead>\n",
              "    <tr style=\"text-align: right;\">\n",
              "      <th></th>\n",
              "      <th>text</th>\n",
              "      <th>label</th>\n",
              "      <th>extracted_text</th>\n",
              "      <th>correct</th>\n",
              "    </tr>\n",
              "  </thead>\n",
              "  <tbody>\n",
              "    <tr>\n",
              "      <th>3</th>\n",
              "      <td>Danny Trejo To Star In Vampire Spaghetti Western ‘Death Rider in the House of Vampires’</td>\n",
              "      <td>Death Rider in the House of Vampires</td>\n",
              "      <td>Death Rider</td>\n",
              "      <td>0</td>\n",
              "    </tr>\n",
              "    <tr>\n",
              "      <th>6</th>\n",
              "      <td>De Niro recreating a scene from Goodfellas to test Irishman deaging (3:30 in)</td>\n",
              "      <td>Goodfellas</td>\n",
              "      <td>none</td>\n",
              "      <td>0</td>\n",
              "    </tr>\n",
              "    <tr>\n",
              "      <th>12</th>\n",
              "      <td>Is there anyway way I could get a copy of 1917 for my dying father in law?</td>\n",
              "      <td>1917</td>\n",
              "      <td>none</td>\n",
              "      <td>0</td>\n",
              "    </tr>\n",
              "    <tr>\n",
              "      <th>30</th>\n",
              "      <td>How Uncut Gems Won Over the Diamond District</td>\n",
              "      <td>Uncut Gems</td>\n",
              "      <td>none</td>\n",
              "      <td>0</td>\n",
              "    </tr>\n",
              "    <tr>\n",
              "      <th>31</th>\n",
              "      <td>Michael J. Fox and Christopher Lloyd posing for the Back to the Future II poster in 1989 that would later be illustrated by Drew Struzan</td>\n",
              "      <td>Back to the Future II</td>\n",
              "      <td>Back to the Future</td>\n",
              "      <td>0</td>\n",
              "    </tr>\n",
              "    <tr>\n",
              "      <th>39</th>\n",
              "      <td>2019 in film - with 'Movies' by Weyes Blood</td>\n",
              "      <td>none</td>\n",
              "      <td>Movies</td>\n",
              "      <td>0</td>\n",
              "    </tr>\n",
              "    <tr>\n",
              "      <th>57</th>\n",
              "      <td>The Mad Max franchise is my all time favorite movie series. I finally watched Waterworld tonight. Oh man why didnt I see this sooner?</td>\n",
              "      <td>Mad Max</td>\n",
              "      <td>Waterworld</td>\n",
              "      <td>0</td>\n",
              "    </tr>\n",
              "    <tr>\n",
              "      <th>69</th>\n",
              "      <td>How A New Hope created Pixar Animation Studios</td>\n",
              "      <td>Star Wars</td>\n",
              "      <td>none</td>\n",
              "      <td>0</td>\n",
              "    </tr>\n",
              "    <tr>\n",
              "      <th>75</th>\n",
              "      <td>A scene from the movie 1917 was recreated from the stroyboards.</td>\n",
              "      <td>1917</td>\n",
              "      <td>none</td>\n",
              "      <td>0</td>\n",
              "    </tr>\n",
              "    <tr>\n",
              "      <th>82</th>\n",
              "      <td>New Wonder Woman image</td>\n",
              "      <td>Wonder Woman</td>\n",
              "      <td>none</td>\n",
              "      <td>0</td>\n",
              "    </tr>\n",
              "    <tr>\n",
              "      <th>88</th>\n",
              "      <td>Thoughts on the Irishman ...</td>\n",
              "      <td>The Irishman</td>\n",
              "      <td>none</td>\n",
              "      <td>0</td>\n",
              "    </tr>\n",
              "  </tbody>\n",
              "</table>\n",
              "</div>\n",
              "      <button class=\"colab-df-convert\" onclick=\"convertToInteractive('df-5367268b-259d-4325-993f-773116de9ad4')\"\n",
              "              title=\"Convert this dataframe to an interactive table.\"\n",
              "              style=\"display:none;\">\n",
              "        \n",
              "  <svg xmlns=\"http://www.w3.org/2000/svg\" height=\"24px\"viewBox=\"0 0 24 24\"\n",
              "       width=\"24px\">\n",
              "    <path d=\"M0 0h24v24H0V0z\" fill=\"none\"/>\n",
              "    <path d=\"M18.56 5.44l.94 2.06.94-2.06 2.06-.94-2.06-.94-.94-2.06-.94 2.06-2.06.94zm-11 1L8.5 8.5l.94-2.06 2.06-.94-2.06-.94L8.5 2.5l-.94 2.06-2.06.94zm10 10l.94 2.06.94-2.06 2.06-.94-2.06-.94-.94-2.06-.94 2.06-2.06.94z\"/><path d=\"M17.41 7.96l-1.37-1.37c-.4-.4-.92-.59-1.43-.59-.52 0-1.04.2-1.43.59L10.3 9.45l-7.72 7.72c-.78.78-.78 2.05 0 2.83L4 21.41c.39.39.9.59 1.41.59.51 0 1.02-.2 1.41-.59l7.78-7.78 2.81-2.81c.8-.78.8-2.07 0-2.86zM5.41 20L4 18.59l7.72-7.72 1.47 1.35L5.41 20z\"/>\n",
              "  </svg>\n",
              "      </button>\n",
              "      \n",
              "  <style>\n",
              "    .colab-df-container {\n",
              "      display:flex;\n",
              "      flex-wrap:wrap;\n",
              "      gap: 12px;\n",
              "    }\n",
              "\n",
              "    .colab-df-convert {\n",
              "      background-color: #E8F0FE;\n",
              "      border: none;\n",
              "      border-radius: 50%;\n",
              "      cursor: pointer;\n",
              "      display: none;\n",
              "      fill: #1967D2;\n",
              "      height: 32px;\n",
              "      padding: 0 0 0 0;\n",
              "      width: 32px;\n",
              "    }\n",
              "\n",
              "    .colab-df-convert:hover {\n",
              "      background-color: #E2EBFA;\n",
              "      box-shadow: 0px 1px 2px rgba(60, 64, 67, 0.3), 0px 1px 3px 1px rgba(60, 64, 67, 0.15);\n",
              "      fill: #174EA6;\n",
              "    }\n",
              "\n",
              "    [theme=dark] .colab-df-convert {\n",
              "      background-color: #3B4455;\n",
              "      fill: #D2E3FC;\n",
              "    }\n",
              "\n",
              "    [theme=dark] .colab-df-convert:hover {\n",
              "      background-color: #434B5C;\n",
              "      box-shadow: 0px 1px 3px 1px rgba(0, 0, 0, 0.15);\n",
              "      filter: drop-shadow(0px 1px 2px rgba(0, 0, 0, 0.3));\n",
              "      fill: #FFFFFF;\n",
              "    }\n",
              "  </style>\n",
              "\n",
              "      <script>\n",
              "        const buttonEl =\n",
              "          document.querySelector('#df-5367268b-259d-4325-993f-773116de9ad4 button.colab-df-convert');\n",
              "        buttonEl.style.display =\n",
              "          google.colab.kernel.accessAllowed ? 'block' : 'none';\n",
              "\n",
              "        async function convertToInteractive(key) {\n",
              "          const element = document.querySelector('#df-5367268b-259d-4325-993f-773116de9ad4');\n",
              "          const dataTable =\n",
              "            await google.colab.kernel.invokeFunction('convertToInteractive',\n",
              "                                                     [key], {});\n",
              "          if (!dataTable) return;\n",
              "\n",
              "          const docLinkHtml = 'Like what you see? Visit the ' +\n",
              "            '<a target=\"_blank\" href=https://colab.research.google.com/notebooks/data_table.ipynb>data table notebook</a>'\n",
              "            + ' to learn more about interactive tables.';\n",
              "          element.innerHTML = '';\n",
              "          dataTable['output_type'] = 'display_data';\n",
              "          await google.colab.output.renderOutput(dataTable, element);\n",
              "          const docLink = document.createElement('div');\n",
              "          docLink.innerHTML = docLinkHtml;\n",
              "          element.appendChild(docLink);\n",
              "        }\n",
              "      </script>\n",
              "    </div>\n",
              "  </div>\n",
              "  "
            ],
            "text/plain": [
              "                                                                                                                                        text  ... correct\n",
              "3                                                    Danny Trejo To Star In Vampire Spaghetti Western ‘Death Rider in the House of Vampires’  ...       0\n",
              "6                                                              De Niro recreating a scene from Goodfellas to test Irishman deaging (3:30 in)  ...       0\n",
              "12                                                                Is there anyway way I could get a copy of 1917 for my dying father in law?  ...       0\n",
              "30                                                                                              How Uncut Gems Won Over the Diamond District  ...       0\n",
              "31  Michael J. Fox and Christopher Lloyd posing for the Back to the Future II poster in 1989 that would later be illustrated by Drew Struzan  ...       0\n",
              "39                                                                                               2019 in film - with 'Movies' by Weyes Blood  ...       0\n",
              "57     The Mad Max franchise is my all time favorite movie series. I finally watched Waterworld tonight. Oh man why didnt I see this sooner?  ...       0\n",
              "69                                                                                            How A New Hope created Pixar Animation Studios  ...       0\n",
              "75                                                                           A scene from the movie 1917 was recreated from the stroyboards.  ...       0\n",
              "82                                                                                                                    New Wonder Woman image  ...       0\n",
              "88                                                                                                              Thoughts on the Irishman ...  ...       0\n",
              "\n",
              "[11 rows x 4 columns]"
            ]
          },
          "execution_count": 26,
          "metadata": {},
          "output_type": "execute_result"
        }
      ],
      "source": [
        "test_df[test_df['correct']==0]"
      ]
    },
    {
      "cell_type": "markdown",
      "id": "e550c48e-a68c-4883-a5a6-2c379b13c3bf",
      "metadata": {
        "id": "e550c48e-a68c-4883-a5a6-2c379b13c3bf"
      },
      "source": [
        "It indeed failed to pick up a few examples. Sometimes this uncovers edge cases and understandable mistakes (e.g. two films are mentioned in the text).\n",
        "\n",
        "\n",
        "We can look at the classification report for a more detailed look at what's included in the test set, and what the model got right and wrong:"
      ]
    },
    {
      "cell_type": "code",
      "execution_count": null,
      "id": "e84eeadd-8aba-43a5-9461-b84305e162f2",
      "metadata": {
        "colab": {
          "base_uri": "https://localhost:8080/"
        },
        "id": "e84eeadd-8aba-43a5-9461-b84305e162f2",
        "outputId": "69d03f5e-93fb-4f66-d0af-d9969bbb9a9c"
      },
      "outputs": [
        {
          "name": "stdout",
          "output_type": "stream",
          "text": [
            "                                      precision    recall  f1-score   support\n",
            "\n",
            "                                1917       0.00      0.00      0.00         2\n",
            "               2001: a space odyssey       1.00      1.00      1.00         1\n",
            "                            ad astra       1.00      1.00      1.00         1\n",
            "     alice doesn't live here anymore       1.00      1.00      1.00         1\n",
            "                       austin powers       1.00      1.00      1.00         1\n",
            "                  back to the future       0.00      0.00      0.00         0\n",
            "               back to the future ii       0.00      0.00      0.00         1\n",
            "                        blood simple       1.00      1.00      1.00         1\n",
            "                   bohemian rhapsody       1.00      1.00      1.00         1\n",
            "                         borderlands       1.00      1.00      1.00         1\n",
            "                     brief encounter       1.00      1.00      1.00         1\n",
            "                                cats       1.00      1.00      1.00         1\n",
            "                               congo       1.00      1.00      1.00         1\n",
            "                         death rider       0.00      0.00      0.00         0\n",
            "death rider in the house of vampires       0.00      0.00      0.00         1\n",
            "                 dolemite is my name       1.00      1.00      1.00         1\n",
            "                      dracula untold       1.00      1.00      1.00         1\n",
            "                              dreams       1.00      1.00      1.00         1\n",
            "                                dune       1.00      1.00      1.00         1\n",
            "                    edge of tomorrow       1.00      1.00      1.00         1\n",
            "                             el topo       1.00      1.00      1.00         1\n",
            "                        end of watch       1.00      1.00      1.00         1\n",
            "                         faith based       1.00      1.00      1.00         1\n",
            "                            fun home       1.00      1.00      1.00         1\n",
            "                          goodfellas       0.00      0.00      0.00         1\n",
            "                   gretel and hansel       1.00      1.00      1.00         1\n",
            "                           hair love       1.00      1.00      1.00         1\n",
            "                         hard boiled       1.00      1.00      1.00         1\n",
            "                        interstellar       1.00      1.00      1.00         1\n",
            "                           john wick       1.00      1.00      1.00         1\n",
            "                         jojo rabbit       1.00      1.00      1.00         2\n",
            "                           king kong       1.00      1.00      1.00         1\n",
            "                          knives out       1.00      1.00      1.00         1\n",
            "                        little women       1.00      1.00      1.00         1\n",
            "                             mad max       0.00      0.00      0.00         1\n",
            "                      marriage story       1.00      1.00      1.00         1\n",
            "                              movies       0.00      0.00      0.00         0\n",
            "                          ni no kuni       1.00      1.00      1.00         1\n",
            "                                none       0.81      0.97      0.88        30\n",
            "       once upon a time in hollywood       1.00      1.00      1.00         2\n",
            "                            parasite       1.00      1.00      1.00         5\n",
            "                         ratatouille       1.00      1.00      1.00         1\n",
            "                            ricochet       1.00      1.00      1.00         1\n",
            "                             robocop       1.00      1.00      1.00         1\n",
            "                               rocky       1.00      1.00      1.00         1\n",
            "                        rocky balboa       1.00      1.00      1.00         1\n",
            "                                 run       1.00      1.00      1.00         1\n",
            "                       shin godzilla       1.00      1.00      1.00         1\n",
            "                           star wars       0.00      0.00      0.00         1\n",
            "                             swallow       1.00      1.00      1.00         1\n",
            "                        the big year       1.00      1.00      1.00         1\n",
            "                     the flintstones       1.00      1.00      1.00         1\n",
            "                           the grude       1.00      1.00      1.00         1\n",
            "                          the grudge       1.00      1.00      1.00         3\n",
            "                        the ice road       1.00      1.00      1.00         1\n",
            "                        the irishman       0.00      0.00      0.00         1\n",
            "                      the lighthouse       1.00      1.00      1.00         1\n",
            "                       the two popes       1.00      1.00      1.00         1\n",
            "                                togo       1.00      1.00      1.00         1\n",
            "                             tumbbad       1.00      1.00      1.00         1\n",
            "                          uncut gems       0.00      0.00      0.00         1\n",
            "                     unknown soldier       1.00      1.00      1.00         1\n",
            "                          waterworld       0.00      0.00      0.00         0\n",
            "                              willow       1.00      1.00      1.00         1\n",
            "                        wonder woman       0.00      0.00      0.00         1\n",
            "                   wonder woman 1984       1.00      1.00      1.00         1\n",
            "\n",
            "                            accuracy                           0.89       100\n",
            "                           macro avg       0.80      0.80      0.80       100\n",
            "                        weighted avg       0.84      0.89      0.86       100\n",
            "\n"
          ]
        }
      ],
      "source": [
        "from sklearn.metrics import classification_report\n",
        "import warnings\n",
        "warnings.filterwarnings('ignore')\n",
        "\n",
        "print(classification_report(test_df['label'].str.lower(), test_df['extracted_text'].str.lower()))"
      ]
    },
    {
      "cell_type": "markdown",
      "id": "197f724e-aa03-48a2-aafc-9da2fec0d720",
      "metadata": {
        "id": "197f724e-aa03-48a2-aafc-9da2fec0d720"
      },
      "source": [
        "This type of extraction is interesting because it doesn't just blindly look at the text. The model has picked up on movie information during its pretraining process and that helps it understand the task from only a few examples.\n",
        "\n",
        "You can think about extending this to other subreddits, to extract other kinds of entities and information. [Let us know in the forum](https://community.cohere.ai/) what you experiment with and what kinds of results you see!\n",
        "\n",
        "Happy building!"
      ]
    }
  ],
  "metadata": {
    "colab": {
      "name": "Entity_Extraction_With_Generative_Models.ipynb",
      "provenance": []
    },
    "kernelspec": {
      "display_name": "Python 3 (ipykernel)",
      "language": "python",
      "name": "python3"
    },
    "language_info": {
      "codemirror_mode": {
        "name": "ipython",
        "version": 3
      },
      "file_extension": ".py",
      "mimetype": "text/x-python",
      "name": "python",
      "nbconvert_exporter": "python",
      "pygments_lexer": "ipython3",
      "version": "3.9.7"
    }
  },
  "nbformat": 4,
  "nbformat_minor": 5
}